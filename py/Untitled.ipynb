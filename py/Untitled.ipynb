{
 "cells": [
  {
   "cell_type": "code",
   "execution_count": 2,
   "id": "95eb6c09",
   "metadata": {},
   "outputs": [],
   "source": [
    "import pandas as pd\n",
    "import re\n",
    "import numpy as np"
   ]
  },
  {
   "cell_type": "code",
   "execution_count": 122,
   "id": "3bb2d171",
   "metadata": {},
   "outputs": [],
   "source": [
    "def read_coords(path):\n",
    "    with open(path,'r',encoding='utf-8-sig') as f:\n",
    "        times = []\n",
    "        a     = []\n",
    "        atoms = []\n",
    "        for line in f:\n",
    "            t = re.search('(^\\d+),',line)\n",
    "            if t:\n",
    "                if len(times) > 0:\n",
    "                    a = pd.DataFrame(a,columns=['null0','tag','type','x','y','z','e','fx','fy','fz']).drop(columns='null0')\n",
    "                    a.index.name = 'index'\n",
    "                    a.loc[(a['e']==''),'e'] = np.nan\n",
    "                    a.loc[(a['fx']==''),'fx'] = np.nan\n",
    "                    a.loc[(a['fy']==''),'fy'] = np.nan\n",
    "                    a.loc[(a['fz']=='') | (a['fz']=='\\n'),'fz'] = np.nan\n",
    "                    atoms.append(a)\n",
    "                    a = []\n",
    "                times.append(int(t[1]))\n",
    "            else:\n",
    "                a.append(line.split(','))\n",
    "        a = pd.DataFrame(a,columns=['null0','tag','type','x','y','z','e','fx','fy','fz']).drop(columns='null0')\n",
    "        a.index.name = 'index'\n",
    "        a.loc[(a['e']==''),'e'] = np.nan\n",
    "        a.loc[(a['fx']==''),'fx'] = np.nan\n",
    "        a.loc[(a['fy']==''),'fy'] = np.nan\n",
    "        a.loc[(a['fz']=='') | (a['fz']=='\\n'),'fz'] = np.nan\n",
    "        atoms.append(a)\n",
    "    \n",
    "    return times,atoms"
   ]
  },
  {
   "cell_type": "code",
   "execution_count": 123,
   "id": "07d2a662",
   "metadata": {},
   "outputs": [],
   "source": [
    "times,atoms = read_coords('./Test_Coords.csv')"
   ]
  },
  {
   "cell_type": "code",
   "execution_count": 124,
   "id": "513914ff",
   "metadata": {},
   "outputs": [
    {
     "data": {
      "text/plain": [
       "[Empty DataFrame\n",
       " Columns: [tag, type, x, y, z, e, fx, fy, fz]\n",
       " Index: [],\n",
       "       tag type    x    y    z    e   fx   fy   fz\n",
       " index                                            \n",
       " 0       0   C0  1.1  2.2  3.3  NaN  NaN  NaN  NaN,\n",
       "       tag type    x    y    z    e   fx   fy   fz\n",
       " index                                            \n",
       " 0       1   C1  4.4  5.5  6.6  NaN  NaN  NaN  NaN,\n",
       "       tag type    x    y    z    e   fx   fy   fz\n",
       " index                                            \n",
       " 0       2   C2  7.7  8.8  9.9  NaN  NaN  NaN  NaN]"
      ]
     },
     "execution_count": 124,
     "metadata": {},
     "output_type": "execute_result"
    }
   ],
   "source": [
    "atoms"
   ]
  },
  {
   "cell_type": "code",
   "execution_count": 75,
   "id": "c23465b8",
   "metadata": {},
   "outputs": [],
   "source": [
    "atoms = pd.DataFrame(atoms,columns=['null0','tag','type','x','y','z','e','fx','fy','fz']).drop(columns='null0')\n",
    "atoms[['e','fx','fy','fz']] = np.nan\n"
   ]
  },
  {
   "cell_type": "code",
   "execution_count": 20,
   "id": "498103a5",
   "metadata": {},
   "outputs": [
    {
     "name": "stdout",
     "output_type": "stream",
     "text": [
      "1\n",
      "2\n",
      "3\n"
     ]
    }
   ],
   "source": [
    "for l in s.split():\n",
    "    a = re.search('^\\d+',l)\n",
    "    if a:\n",
    "        print(a[0])\n",
    "        "
   ]
  },
  {
   "cell_type": "code",
   "execution_count": 22,
   "id": "a6d57be9",
   "metadata": {},
   "outputs": [
    {
     "data": {
      "text/plain": [
       "['\\ufeff0,,,,,,,,,',\n",
       " ',tag,type,x,y,z,e,fx,fy,fz\\n,0,C0,1.1,2.2,3.3,,,,',\n",
       " ',,,,,,,,,\\n,1,C1,4.4,5.5,6.6,,,,',\n",
       " ',,,,,,,,,\\n,2,C2,7.7,8.8,9.9,,,,']"
      ]
     },
     "execution_count": 22,
     "metadata": {},
     "output_type": "execute_result"
    }
   ],
   "source": [
    "q = re.split('\\n\\d+',s)\n",
    "q"
   ]
  },
  {
   "cell_type": "code",
   "execution_count": 20,
   "id": "13283547",
   "metadata": {},
   "outputs": [],
   "source": [
    "def place_latcoords():\n",
    "    d1 = 0.142\n",
    "    d4 = np.sin(np.pi/3)*d1\n",
    "    x0 = 0.0\n",
    "    y0 = 0.0\n",
    "    z0 = 0.0\n",
    "    latcoords = []\n",
    "    for k in range(0,6):\n",
    "        z0 = k\n",
    "        x0 = 0.0 if (k in [0,2,3,5]) else d1\n",
    "        for i in range(0,8):\n",
    "            y0 = 0.0\n",
    "            for j in range(0,28):\n",
    "                latcoords.append([x0       ,y0+d4,z0])\n",
    "                latcoords.append([x0+0.5*d1,y0   ,z0])\n",
    "                latcoords.append([x0+1.5*d1,y0   ,z0])\n",
    "                latcoords.append([x0+2.0*d1,y0+d4,z0])\n",
    "                y0 += 2.0*d4\n",
    "            x0 += 3*d1\n",
    "            \n",
    "    latcoords = np.array(latcoords)\n",
    "    return latcoords\n",
    "\n",
    "lc = place_latcoords()\n",
    "            "
   ]
  },
  {
   "cell_type": "code",
   "execution_count": 23,
   "id": "4b71accd",
   "metadata": {},
   "outputs": [],
   "source": [
    "np.savetxt(\"latcoords.xyz\",lc,fmt='%8.5f',delimiter='  ',header=str(lc.shape[0]) + '\\nGenerated by pyMC',comments='')"
   ]
  },
  {
   "cell_type": "code",
   "execution_count": 34,
   "id": "911706e3",
   "metadata": {},
   "outputs": [],
   "source": [
    "types = np.empty((lc.shape[0],1),dtype='<U1')"
   ]
  },
  {
   "cell_type": "code",
   "execution_count": 37,
   "id": "b25d833e",
   "metadata": {},
   "outputs": [],
   "source": [
    "types[:] = 'C'"
   ]
  },
  {
   "cell_type": "code",
   "execution_count": 42,
   "id": "b23ca73f",
   "metadata": {},
   "outputs": [
    {
     "data": {
      "text/plain": [
       "array([['C', '0.0', '0.12297560733739027', '0.0'],\n",
       "       ['C', '0.071', '0.0', '0.0'],\n",
       "       ['C', '0.21299999999999997', '0.0', '0.0'],\n",
       "       ...,\n",
       "       ['C', '3.0530000000000004', '6.640682796219076', '5.0'],\n",
       "       ['C', '3.1950000000000003', '6.640682796219076', '5.0'],\n",
       "       ['C', '3.266', '6.763658403556467', '5.0']], dtype='<U32')"
      ]
     },
     "execution_count": 42,
     "metadata": {},
     "output_type": "execute_result"
    }
   ],
   "source": [
    "np.concatenate((types,lc),axis=1)"
   ]
  },
  {
   "cell_type": "code",
   "execution_count": 43,
   "id": "eabbf4bb",
   "metadata": {},
   "outputs": [
    {
     "data": {
      "text/plain": [
       "array([[0.        , 0.12297561, 0.        ],\n",
       "       [0.071     , 0.        , 0.        ],\n",
       "       [0.213     , 0.        , 0.        ],\n",
       "       ...,\n",
       "       [3.053     , 6.6406828 , 5.        ],\n",
       "       [3.195     , 6.6406828 , 5.        ],\n",
       "       [3.266     , 6.7636584 , 5.        ]])"
      ]
     },
     "execution_count": 43,
     "metadata": {},
     "output_type": "execute_result"
    }
   ],
   "source": [
    "lc"
   ]
  },
  {
   "cell_type": "code",
   "execution_count": null,
   "id": "ad363fe0",
   "metadata": {},
   "outputs": [],
   "source": []
  }
 ],
 "metadata": {
  "kernelspec": {
   "display_name": "Python 3",
   "language": "python",
   "name": "python3"
  },
  "language_info": {
   "codemirror_mode": {
    "name": "ipython",
    "version": 3
   },
   "file_extension": ".py",
   "mimetype": "text/x-python",
   "name": "python",
   "nbconvert_exporter": "python",
   "pygments_lexer": "ipython3",
   "version": "3.8.8"
  }
 },
 "nbformat": 4,
 "nbformat_minor": 5
}
